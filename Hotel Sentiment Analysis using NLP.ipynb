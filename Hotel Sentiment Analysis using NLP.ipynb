{
 "cells": [
  {
   "cell_type": "markdown",
   "id": "96cc97d4",
   "metadata": {},
   "source": [
    "### Step 1: with the task of Hotel Reviews sentiment analysis with NLP by importing the necessary Python libraries and import the dataset and view the top 5 rows of the dataset:"
   ]
  },
  {
   "cell_type": "code",
   "execution_count": 1,
   "id": "8ab64550",
   "metadata": {},
   "outputs": [],
   "source": [
    "#Importing libraries\n",
    "import pandas as pd\n",
    "import numpy as np\n",
    "from sklearn.model_selection import train_test_split\n",
    "from sklearn.feature_extraction.text import CountVectorizer\n",
    "from sklearn import svm\n",
    "from sklearn.metrics import f1_score"
   ]
  },
  {
   "cell_type": "code",
   "execution_count": 2,
   "id": "c78e8a6d",
   "metadata": {},
   "outputs": [
    {
     "data": {
      "text/html": [
       "<div>\n",
       "<style scoped>\n",
       "    .dataframe tbody tr th:only-of-type {\n",
       "        vertical-align: middle;\n",
       "    }\n",
       "\n",
       "    .dataframe tbody tr th {\n",
       "        vertical-align: top;\n",
       "    }\n",
       "\n",
       "    .dataframe thead th {\n",
       "        text-align: right;\n",
       "    }\n",
       "</style>\n",
       "<table border=\"1\" class=\"dataframe\">\n",
       "  <thead>\n",
       "    <tr style=\"text-align: right;\">\n",
       "      <th></th>\n",
       "      <th>Review</th>\n",
       "      <th>Rating</th>\n",
       "    </tr>\n",
       "  </thead>\n",
       "  <tbody>\n",
       "    <tr>\n",
       "      <th>0</th>\n",
       "      <td>nice hotel expensive parking got good deal sta...</td>\n",
       "      <td>4</td>\n",
       "    </tr>\n",
       "    <tr>\n",
       "      <th>1</th>\n",
       "      <td>ok nothing special charge diamond member hilto...</td>\n",
       "      <td>2</td>\n",
       "    </tr>\n",
       "    <tr>\n",
       "      <th>2</th>\n",
       "      <td>nice rooms not 4* experience hotel monaco seat...</td>\n",
       "      <td>3</td>\n",
       "    </tr>\n",
       "    <tr>\n",
       "      <th>3</th>\n",
       "      <td>unique, great stay, wonderful time hotel monac...</td>\n",
       "      <td>5</td>\n",
       "    </tr>\n",
       "    <tr>\n",
       "      <th>4</th>\n",
       "      <td>great stay great stay, went seahawk game aweso...</td>\n",
       "      <td>5</td>\n",
       "    </tr>\n",
       "  </tbody>\n",
       "</table>\n",
       "</div>"
      ],
      "text/plain": [
       "                                              Review  Rating\n",
       "0  nice hotel expensive parking got good deal sta...       4\n",
       "1  ok nothing special charge diamond member hilto...       2\n",
       "2  nice rooms not 4* experience hotel monaco seat...       3\n",
       "3  unique, great stay, wonderful time hotel monac...       5\n",
       "4  great stay great stay, went seahawk game aweso...       5"
      ]
     },
     "execution_count": 2,
     "metadata": {},
     "output_type": "execute_result"
    }
   ],
   "source": [
    "data = pd.read_csv(\"tripadvisor_hotel_reviews.csv\")\n",
    "data.head()"
   ]
  },
  {
   "cell_type": "markdown",
   "id": "95766e44",
   "metadata": {},
   "source": [
    "### Step 2: Now we will clean our data. We will filter our data based on ratings, where we have ratings less than 3 we will keep that in the ‘negative review’ variable, whereas we have 5 ratings we will keep that in the ‘five_review’ variable.\n",
    "\n",
    "### Cleaning data"
   ]
  },
  {
   "cell_type": "code",
   "execution_count": 3,
   "id": "01dff877",
   "metadata": {},
   "outputs": [
    {
     "data": {
      "text/plain": [
       "5    9054\n",
       "4    6039\n",
       "3    2184\n",
       "2    1793\n",
       "1    1421\n",
       "Name: Rating, dtype: int64"
      ]
     },
     "execution_count": 3,
     "metadata": {},
     "output_type": "execute_result"
    }
   ],
   "source": [
    "data['Rating'].value_counts()"
   ]
  },
  {
   "cell_type": "code",
   "execution_count": 5,
   "id": "48f5f3d3",
   "metadata": {},
   "outputs": [
    {
     "data": {
      "text/plain": [
       "3215"
      ]
     },
     "execution_count": 5,
     "metadata": {},
     "output_type": "execute_result"
    }
   ],
   "source": [
    "negative_review = data[data['Rating'] < 3]\n",
    "negative_review = negative_review.reset_index(drop = True)\n",
    "\n",
    "five_review = data.loc[(data['Rating'] == 5)]\n",
    "five_review = five_review.reset_index(drop = True)\n",
    "\n",
    "positive_review = five_review.loc[:len(negative_review)]\n",
    "len(positive_review)"
   ]
  },
  {
   "cell_type": "code",
   "execution_count": 6,
   "id": "285dd2aa",
   "metadata": {},
   "outputs": [
    {
     "data": {
      "text/html": [
       "<div>\n",
       "<style scoped>\n",
       "    .dataframe tbody tr th:only-of-type {\n",
       "        vertical-align: middle;\n",
       "    }\n",
       "\n",
       "    .dataframe tbody tr th {\n",
       "        vertical-align: top;\n",
       "    }\n",
       "\n",
       "    .dataframe thead th {\n",
       "        text-align: right;\n",
       "    }\n",
       "</style>\n",
       "<table border=\"1\" class=\"dataframe\">\n",
       "  <thead>\n",
       "    <tr style=\"text-align: right;\">\n",
       "      <th></th>\n",
       "      <th>Review</th>\n",
       "      <th>Rating</th>\n",
       "    </tr>\n",
       "  </thead>\n",
       "  <tbody>\n",
       "    <tr>\n",
       "      <th>1497</th>\n",
       "      <td>3 star lobby 2 star hotel stayed start end eur...</td>\n",
       "      <td>2</td>\n",
       "    </tr>\n",
       "    <tr>\n",
       "      <th>3104</th>\n",
       "      <td>beware, chic born interesting hotel property, ...</td>\n",
       "      <td>1</td>\n",
       "    </tr>\n",
       "    <tr>\n",
       "      <th>2933</th>\n",
       "      <td>superb resort spent week secrets january 5-14t...</td>\n",
       "      <td>5</td>\n",
       "    </tr>\n",
       "    <tr>\n",
       "      <th>2675</th>\n",
       "      <td>hotel 1929 worst boutique hotel world write re...</td>\n",
       "      <td>1</td>\n",
       "    </tr>\n",
       "    <tr>\n",
       "      <th>1794</th>\n",
       "      <td>hotel gets 3 stars hell 4 5 star venue depress...</td>\n",
       "      <td>1</td>\n",
       "    </tr>\n",
       "  </tbody>\n",
       "</table>\n",
       "</div>"
      ],
      "text/plain": [
       "                                                 Review  Rating\n",
       "1497  3 star lobby 2 star hotel stayed start end eur...       2\n",
       "3104  beware, chic born interesting hotel property, ...       1\n",
       "2933  superb resort spent week secrets january 5-14t...       5\n",
       "2675  hotel 1929 worst boutique hotel world write re...       1\n",
       "1794  hotel gets 3 stars hell 4 5 star venue depress...       1"
      ]
     },
     "execution_count": 6,
     "metadata": {},
     "output_type": "execute_result"
    }
   ],
   "source": [
    "data_all = pd.concat([positive_review, negative_review], axis = 0)\n",
    "data_all.sample(5)"
   ]
  },
  {
   "cell_type": "markdown",
   "id": "c78fc119",
   "metadata": {},
   "source": [
    "### Step 3: We will create a sentiment column where sentiment which are equal to 5 will have positive sentiment otherwise negative, we will assign negative sentiment.\n",
    "\n",
    "### Create a sentiments column"
   ]
  },
  {
   "cell_type": "code",
   "execution_count": 7,
   "id": "99e43bd6",
   "metadata": {},
   "outputs": [
    {
     "data": {
      "text/html": [
       "<div>\n",
       "<style scoped>\n",
       "    .dataframe tbody tr th:only-of-type {\n",
       "        vertical-align: middle;\n",
       "    }\n",
       "\n",
       "    .dataframe tbody tr th {\n",
       "        vertical-align: top;\n",
       "    }\n",
       "\n",
       "    .dataframe thead th {\n",
       "        text-align: right;\n",
       "    }\n",
       "</style>\n",
       "<table border=\"1\" class=\"dataframe\">\n",
       "  <thead>\n",
       "    <tr style=\"text-align: right;\">\n",
       "      <th></th>\n",
       "      <th>Review</th>\n",
       "      <th>Rating</th>\n",
       "      <th>Sentiment</th>\n",
       "    </tr>\n",
       "  </thead>\n",
       "  <tbody>\n",
       "    <tr>\n",
       "      <th>0</th>\n",
       "      <td>melia caribe wonderful, just returned wonderfu...</td>\n",
       "      <td>5</td>\n",
       "      <td>Positive</td>\n",
       "    </tr>\n",
       "    <tr>\n",
       "      <th>1</th>\n",
       "      <td>hated checked early, travel extensively time d...</td>\n",
       "      <td>1</td>\n",
       "      <td>Negative</td>\n",
       "    </tr>\n",
       "    <tr>\n",
       "      <th>2</th>\n",
       "      <td>dirty congested checked 10:00 p.m. wait rooms ...</td>\n",
       "      <td>1</td>\n",
       "      <td>Negative</td>\n",
       "    </tr>\n",
       "    <tr>\n",
       "      <th>3</th>\n",
       "      <td>lame located far wonderful places florence hot...</td>\n",
       "      <td>2</td>\n",
       "      <td>Negative</td>\n",
       "    </tr>\n",
       "    <tr>\n",
       "      <th>4</th>\n",
       "      <td>single beds terrible stayed hotel work trainin...</td>\n",
       "      <td>1</td>\n",
       "      <td>Negative</td>\n",
       "    </tr>\n",
       "  </tbody>\n",
       "</table>\n",
       "</div>"
      ],
      "text/plain": [
       "                                              Review  Rating Sentiment\n",
       "0  melia caribe wonderful, just returned wonderfu...       5  Positive\n",
       "1  hated checked early, travel extensively time d...       1  Negative\n",
       "2  dirty congested checked 10:00 p.m. wait rooms ...       1  Negative\n",
       "3  lame located far wonderful places florence hot...       2  Negative\n",
       "4  single beds terrible stayed hotel work trainin...       1  Negative"
      ]
     },
     "execution_count": 7,
     "metadata": {},
     "output_type": "execute_result"
    }
   ],
   "source": [
    "data_all['Sentiment'] = np.where(data_all['Rating'] == 5, 'Positive', 'Negative')\n",
    "\n",
    "data_all = data_all.sample(frac = 1)\n",
    "data_all = data_all.reset_index(drop = True)\n",
    "data_all.head()"
   ]
  },
  {
   "cell_type": "markdown",
   "id": "09360460",
   "metadata": {},
   "source": [
    "### Step 4: Now, we will split our dataset into train and test.\n",
    "\n",
    "### Split data into train and test"
   ]
  },
  {
   "cell_type": "code",
   "execution_count": 8,
   "id": "89ebd376",
   "metadata": {},
   "outputs": [],
   "source": [
    "x_train, x_test, y_train, y_test = train_test_split(data_all.Review, data_all.Sentiment)"
   ]
  },
  {
   "cell_type": "code",
   "execution_count": 9,
   "id": "e6dc22e2",
   "metadata": {},
   "outputs": [],
   "source": [
    "cv = CountVectorizer()\n",
    "x_train_vec = cv.fit_transform(x_train)\n",
    "x_text_vec = cv.transform(x_test)"
   ]
  },
  {
   "cell_type": "markdown",
   "id": "8d1b5047",
   "metadata": {},
   "source": [
    "### Step 5: Modeling\n",
    "    \n",
    "### Modeling    "
   ]
  },
  {
   "cell_type": "code",
   "execution_count": 13,
   "id": "2b7bf002",
   "metadata": {},
   "outputs": [
    {
     "data": {
      "text/plain": [
       "SVC(kernel='linear')"
      ]
     },
     "execution_count": 13,
     "metadata": {},
     "output_type": "execute_result"
    }
   ],
   "source": [
    "clf_svm = svm.SVC(kernel = 'linear')\n",
    "clf_svm.fit(x_train_vec, y_train)"
   ]
  },
  {
   "cell_type": "markdown",
   "id": "190c578b",
   "metadata": {},
   "source": [
    "### Step 6: we will now test the accuracy of our model.\n",
    "    \n",
    "### Test accuracy    "
   ]
  },
  {
   "cell_type": "code",
   "execution_count": 14,
   "id": "d7a42a0c",
   "metadata": {},
   "outputs": [
    {
     "data": {
      "text/plain": [
       "0.9390547263681592"
      ]
     },
     "execution_count": 14,
     "metadata": {},
     "output_type": "execute_result"
    }
   ],
   "source": [
    "clf_svm.score(x_text_vec, y_test)"
   ]
  },
  {
   "cell_type": "code",
   "execution_count": 15,
   "id": "a5306853",
   "metadata": {},
   "outputs": [
    {
     "data": {
      "text/plain": [
       "array([0.93950617, 0.93859649])"
      ]
     },
     "execution_count": 15,
     "metadata": {},
     "output_type": "execute_result"
    }
   ],
   "source": [
    "f1_score(y_test, clf_svm.predict(x_text_vec), average= None)"
   ]
  },
  {
   "cell_type": "markdown",
   "id": "c44843d4",
   "metadata": {},
   "source": [
    "### Step 7: Now, we will test our model on real Reviews.\n",
    "    \n",
    "### Testing model on Reviews    "
   ]
  },
  {
   "cell_type": "code",
   "execution_count": 16,
   "id": "526e26cf",
   "metadata": {},
   "outputs": [
    {
     "data": {
      "text/plain": [
       "array(['Positive'], dtype=object)"
      ]
     },
     "execution_count": 16,
     "metadata": {},
     "output_type": "execute_result"
    }
   ],
   "source": [
    "review_testing = [\"I loved this place, this is beautiful and i can't wait to come again\"]\n",
    "review_vec = cv.transform(review_testing)\n",
    "clf_svm.predict(review_vec)"
   ]
  },
  {
   "cell_type": "code",
   "execution_count": 20,
   "id": "80b102c0",
   "metadata": {},
   "outputs": [
    {
     "data": {
      "text/plain": [
       "array(['Positive'], dtype=object)"
      ]
     },
     "execution_count": 20,
     "metadata": {},
     "output_type": "execute_result"
    }
   ],
   "source": [
    "review_testing = [\"I don't loved this place, i well never come back to this place again\"]\n",
    "review_vec = cv.transform(review_testing)\n",
    "clf_svm.predict(review_vec)"
   ]
  },
  {
   "cell_type": "code",
   "execution_count": null,
   "id": "efe00fe0",
   "metadata": {},
   "outputs": [],
   "source": []
  }
 ],
 "metadata": {
  "kernelspec": {
   "display_name": "Python 3 (ipykernel)",
   "language": "python",
   "name": "python3"
  },
  "language_info": {
   "codemirror_mode": {
    "name": "ipython",
    "version": 3
   },
   "file_extension": ".py",
   "mimetype": "text/x-python",
   "name": "python",
   "nbconvert_exporter": "python",
   "pygments_lexer": "ipython3",
   "version": "3.9.12"
  }
 },
 "nbformat": 4,
 "nbformat_minor": 5
}
